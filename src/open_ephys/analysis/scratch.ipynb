{
 "cells": [
  {
   "cell_type": "code",
   "execution_count": 1,
   "metadata": {},
   "outputs": [],
   "source": [
    "# %matplotlib notebook"
   ]
  },
  {
   "cell_type": "code",
   "execution_count": 2,
   "metadata": {},
   "outputs": [],
   "source": [
    "import sys\n",
    "import os\n",
    "\n",
    "import numpy as np\n",
    "from matplotlib import pyplot as plt\n",
    "import pandas as pd\n",
    "\n",
    "os.chdir('/home/paul/Documents/open-ephys/src/')\n",
    "\n",
    "sys.path.append('.')  # Add current directory to path\n",
    "from open_ephys.analysis.session import Session\n",
    "from open_ephys.analysis.recording import Recording\n",
    "from open_ephys.analysis.formats.BinaryRecording import BinaryRecording\n",
    "\n",
    "\n"
   ]
  },
  {
   "cell_type": "code",
   "execution_count": 3,
   "metadata": {},
   "outputs": [],
   "source": [
    "rec_path = '/mnt/g/To Process/PMA97/PMA97 2025-03-13 Session 1/PMA97 2025-03-13_12-21-42 Opto Config 2'\n",
    "\n",
    "session = Session(rec_path)\n",
    "\n",
    "\n"
   ]
  },
  {
   "cell_type": "code",
   "execution_count": 7,
   "metadata": {},
   "outputs": [
    {
     "ename": "IndexError",
     "evalue": "list index out of range",
     "output_type": "error",
     "traceback": [
      "\u001b[0;31m---------------------------------------------------------------------------\u001b[0m\n",
      "\u001b[0;31mIndexError\u001b[0m                                Traceback (most recent call last)\n",
      "Cell \u001b[0;32mIn[7], line 5\u001b[0m\n",
      "\u001b[1;32m      3\u001b[0m recording \u001b[38;5;241m=\u001b[39m recs[\u001b[38;5;241m0\u001b[39m]\n",
      "\u001b[1;32m      4\u001b[0m continuous \u001b[38;5;241m=\u001b[39m recording\u001b[38;5;241m.\u001b[39mcontinuous\n",
      "\u001b[0;32m----> 5\u001b[0m events \u001b[38;5;241m=\u001b[39m \u001b[43mrecording\u001b[49m\u001b[38;5;241;43m.\u001b[39;49m\u001b[43mevents\u001b[49m\n",
      "\n",
      "File \u001b[0;32m~/Documents/open-ephys/src/open_ephys/analysis/recording.py:100\u001b[0m, in \u001b[0;36mRecording.events\u001b[0;34m(self)\u001b[0m\n",
      "\u001b[1;32m     97\u001b[0m \u001b[38;5;129m@property\u001b[39m\n",
      "\u001b[1;32m     98\u001b[0m \u001b[38;5;28;01mdef\u001b[39;00m \u001b[38;5;21mevents\u001b[39m(\u001b[38;5;28mself\u001b[39m):\n",
      "\u001b[1;32m     99\u001b[0m     \u001b[38;5;28;01mif\u001b[39;00m \u001b[38;5;28mself\u001b[39m\u001b[38;5;241m.\u001b[39m_events \u001b[38;5;129;01mis\u001b[39;00m \u001b[38;5;28;01mNone\u001b[39;00m:\n",
      "\u001b[0;32m--> 100\u001b[0m         \u001b[38;5;28;43mself\u001b[39;49m\u001b[38;5;241;43m.\u001b[39;49m\u001b[43mload_events\u001b[49m\u001b[43m(\u001b[49m\u001b[43m)\u001b[49m\n",
      "\u001b[1;32m    101\u001b[0m     \u001b[38;5;28;01mreturn\u001b[39;00m \u001b[38;5;28mself\u001b[39m\u001b[38;5;241m.\u001b[39m_events\n",
      "\n",
      "File \u001b[0;32m~/Documents/open-ephys/src/open_ephys/analysis/formats/BinaryRecording.py:453\u001b[0m, in \u001b[0;36mBinaryRecording.load_events\u001b[0;34m(self)\u001b[0m\n",
      "\u001b[1;32m    442\u001b[0m     \u001b[38;5;66;03m# # ensure that the number of rising and falling edges are the same:\u001b[39;00m\n",
      "\u001b[1;32m    443\u001b[0m     \u001b[38;5;66;03m# if len(rising) != len(falling):\u001b[39;00m\n",
      "\u001b[1;32m    444\u001b[0m     \u001b[38;5;66;03m#     print(\u001b[39;00m\n",
      "\u001b[0;32m   (...)\u001b[0m\n",
      "\u001b[1;32m    448\u001b[0m     \u001b[38;5;66;03m#     )\u001b[39;00m\n",
      "\u001b[1;32m    449\u001b[0m     \u001b[38;5;66;03m#     continue\u001b[39;00m\n",
      "\u001b[1;32m    452\u001b[0m durations \u001b[38;5;241m=\u001b[39m sample_numbers[falling] \u001b[38;5;241m-\u001b[39m sample_numbers[rising]\n",
      "\u001b[0;32m--> 453\u001b[0m durations \u001b[38;5;241m=\u001b[39m durations \u001b[38;5;241m/\u001b[39m \u001b[38;5;28;43mself\u001b[39;49m\u001b[38;5;241;43m.\u001b[39;49m\u001b[43mcontinuous\u001b[49m\u001b[43m[\u001b[49m\u001b[38;5;241;43m0\u001b[39;49m\u001b[43m]\u001b[49m\u001b[38;5;241m.\u001b[39mmetadata[\u001b[38;5;124m\"\u001b[39m\u001b[38;5;124msample_rate\u001b[39m\u001b[38;5;124m\"\u001b[39m]\n",
      "\u001b[1;32m    454\u001b[0m channel_samples \u001b[38;5;241m=\u001b[39m sample_numbers[rising]\n",
      "\u001b[1;32m    455\u001b[0m channel_timestamps \u001b[38;5;241m=\u001b[39m timestamps[rising]        \n",
      "\n",
      "\u001b[0;31mIndexError\u001b[0m: list index out of range"
     ]
    }
   ],
   "source": [
    "node = session.recordnodes[0]\n",
    "recs = node.recordings\n",
    "recording = recs[0]\n",
    "continuous = recording.continuous\n",
    "events = recording.events\n",
    "\n",
    "\n"
   ]
  },
  {
   "cell_type": "code",
   "execution_count": 5,
   "metadata": {},
   "outputs": [
    {
     "ename": "NameError",
     "evalue": "name 'events' is not defined",
     "output_type": "error",
     "traceback": [
      "\u001b[0;31m---------------------------------------------------------------------------\u001b[0m\n",
      "\u001b[0;31mNameError\u001b[0m                                 Traceback (most recent call last)\n",
      "Cell \u001b[0;32mIn[5], line 1\u001b[0m\n",
      "\u001b[0;32m----> 1\u001b[0m daq_events \u001b[38;5;241m=\u001b[39m \u001b[43mevents\u001b[49m[events[\u001b[38;5;124m'\u001b[39m\u001b[38;5;124mstream_name\u001b[39m\u001b[38;5;124m'\u001b[39m] \u001b[38;5;241m==\u001b[39m \u001b[38;5;124m'\u001b[39m\u001b[38;5;124mPXIe-6341\u001b[39m\u001b[38;5;124m'\u001b[39m]\n",
      "\u001b[1;32m      2\u001b[0m laser_events \u001b[38;5;241m=\u001b[39m daq_events[daq_events[\u001b[38;5;124m'\u001b[39m\u001b[38;5;124mline\u001b[39m\u001b[38;5;124m'\u001b[39m]\u001b[38;5;241m.\u001b[39misin([\u001b[38;5;241m8\u001b[39m])]\n",
      "\n",
      "\u001b[0;31mNameError\u001b[0m: name 'events' is not defined"
     ]
    }
   ],
   "source": [
    "daq_events = events[events['stream_name'] == 'PXIe-6341']\n",
    "laser_events = daq_events[daq_events['line'].isin([8])]\n"
   ]
  },
  {
   "cell_type": "code",
   "execution_count": 6,
   "metadata": {},
   "outputs": [
    {
     "ename": "NameError",
     "evalue": "name 'laser_events' is not defined",
     "output_type": "error",
     "traceback": [
      "\u001b[0;31m---------------------------------------------------------------------------\u001b[0m\n",
      "\u001b[0;31mNameError\u001b[0m                                 Traceback (most recent call last)\n",
      "Cell \u001b[0;32mIn[6], line 4\u001b[0m\n",
      "\u001b[1;32m      1\u001b[0m \u001b[38;5;66;03m# Let's plot a channel \u001b[39;00m\n",
      "\u001b[1;32m      3\u001b[0m chan \u001b[38;5;241m=\u001b[39m \u001b[38;5;241m1\u001b[39m\n",
      "\u001b[0;32m----> 4\u001b[0m laser_start_global_time \u001b[38;5;241m=\u001b[39m \u001b[43mlaser_events\u001b[49m\u001b[38;5;241m.\u001b[39miloc[\u001b[38;5;241m0\u001b[39m]\u001b[38;5;241m.\u001b[39mglobal_timestamp\n",
      "\u001b[1;32m      6\u001b[0m npix, t_n \u001b[38;5;241m=\u001b[39m continuous[\u001b[38;5;241m0\u001b[39m]\u001b[38;5;241m.\u001b[39mget_data(start_time\u001b[38;5;241m=\u001b[39mlaser_start_global_time, length\u001b[38;5;241m=\u001b[39m\u001b[38;5;241m0.1\u001b[39m, channels\u001b[38;5;241m=\u001b[39mchan)\n",
      "\u001b[1;32m      7\u001b[0m npix_scaled \u001b[38;5;241m=\u001b[39m (npix \u001b[38;5;241m-\u001b[39m \u001b[38;5;28mmax\u001b[39m(npix))\u001b[38;5;241m/\u001b[39m(\u001b[38;5;28mmax\u001b[39m(npix) \u001b[38;5;241m-\u001b[39m \u001b[38;5;28mmin\u001b[39m(npix))\n",
      "\n",
      "\u001b[0;31mNameError\u001b[0m: name 'laser_events' is not defined"
     ]
    }
   ],
   "source": [
    "# Let's plot a channel \n",
    "\n",
    "chan = 1\n",
    "laser_start_global_time = laser_events.iloc[0].global_timestamp\n",
    "\n",
    "npix, t_n = continuous[0].get_data(start_time=laser_start_global_time, length=0.1, channels=chan)\n",
    "npix_scaled = (npix - max(npix))/(max(npix) - min(npix))\n",
    "\n",
    "daq, t_d = continuous[1].get_data(start_time=laser_start_global_time, length=0.1, channels=chan)\n",
    "daq_scaled = (daq - max(daq))/(max(daq) - min(daq))\n",
    "\n",
    "\n",
    "\n",
    "plt.plot(t_n, npix_scaled)\n",
    "plt.plot(t_d, daq_scaled)\n",
    "plt.show()"
   ]
  },
  {
   "cell_type": "code",
   "execution_count": null,
   "metadata": {},
   "outputs": [],
   "source": [
    "# Lets also plot the actual barcodes\n",
    "\n",
    "# Need to get the raw barcodes\n",
    "recording.process_barcodes()\n",
    "raw_barcodes = recording.raw_barcodes\n",
    "\n",
    "\n",
    "\n"
   ]
  },
  {
   "cell_type": "code",
   "execution_count": null,
   "metadata": {},
   "outputs": [],
   "source": [
    "npix_barcode_start = raw_barcodes[0].iloc[0].start_time\n",
    "npix_barcode_voltage, n_t = continuous[0].get_data(start_time=barcode_start-0.005, length=1.05, channels=384)\n",
    "plt.plot(n_t,npix_barcode_voltage)\n",
    "\n",
    "\n",
    "daq_barcode_voltage, d_t = continuous[1].get_data(start_time=barcode_start-0.005, length=1.05, channels=7)\n",
    "plt.plot(d_t,daq_barcode_voltage)\n",
    "\n",
    "\n",
    "# pd.DataFrame(barcodes[(np.int64(114), 'ProbeA')])\n",
    "\n",
    "plt.show()\n"
   ]
  },
  {
   "cell_type": "code",
   "execution_count": null,
   "metadata": {},
   "outputs": [],
   "source": [
    "continuous[1].metadata"
   ]
  }
 ],
 "metadata": {
  "kernelspec": {
   "display_name": "ephys",
   "language": "python",
   "name": "python3"
  },
  "language_info": {
   "codemirror_mode": {
    "name": "ipython",
    "version": 3
   },
   "file_extension": ".py",
   "mimetype": "text/x-python",
   "name": "python",
   "nbconvert_exporter": "python",
   "pygments_lexer": "ipython3",
   "version": "3.10.14"
  }
 },
 "nbformat": 4,
 "nbformat_minor": 2
}
